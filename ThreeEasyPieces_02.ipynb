{
  "nbformat": 4,
  "nbformat_minor": 0,
  "metadata": {
    "colab": {
      "provenance": [],
      "authorship_tag": "ABX9TyP9GgA8WxUkLWTeTj1jvUrm",
      "include_colab_link": true
    },
    "kernelspec": {
      "name": "python3",
      "display_name": "Python 3"
    },
    "language_info": {
      "name": "python"
    }
  },
  "cells": [
    {
      "cell_type": "markdown",
      "metadata": {
        "id": "view-in-github",
        "colab_type": "text"
      },
      "source": [
        "<a href=\"https://colab.research.google.com/github/nedlecky/CSC221/blob/main/ThreeEasyPieces_02.ipynb\" target=\"_parent\"><img src=\"https://colab.research.google.com/assets/colab-badge.svg\" alt=\"Open In Colab\"/></a>"
      ]
    },
    {
      "cell_type": "markdown",
      "source": [
        "# Three Easy Pieces 02"
      ],
      "metadata": {
        "id": "qShqsUb1VMHG"
      }
    },
    {
      "cell_type": "code",
      "execution_count": 12,
      "metadata": {
        "id": "RkjEk0uKVLIb"
      },
      "outputs": [],
      "source": [
        "# Data\n",
        "int1 = 13\n",
        "float1 = 23.5\n",
        "string1 = 'Hey there!'\n",
        "list1 = [13, 22, 45]\n",
        "tuple1 = (8, 13, 1)\n",
        "set1 = {200, 123, 'abc', 50, 200}\n",
        "dict1 = {'f':'123', 'a':246, 'b':'qwerty'}\n"
      ]
    },
    {
      "cell_type": "code",
      "source": [
        "# Code 1\n",
        "def printme(x):\n",
        "    print(f'printme = {x}')\n",
        "printme(int1)\n",
        "printme(float1)\n",
        "printme(list1)\n",
        "printme(tuple1)\n",
        "printme(set1)\n",
        "printme(dict1)\n",
        "\n",
        "def compare(a, b):\n",
        "    if a>b:\n",
        "        print(f'a>b a={a}')\n",
        "    else:\n",
        "        print(f'a<=b b={b}')\n",
        "compare(3,8)\n",
        "compare(8,3)\n",
        "\n",
        "def walkthru(x):\n",
        "    for a in sorted(x):\n",
        "        print(a)\n",
        "walkthru(string1)\n",
        "walkthru(list1)\n",
        "walkthru(dict1)\n"
      ],
      "metadata": {
        "colab": {
          "base_uri": "https://localhost:8080/"
        },
        "id": "LFUmHVXAVvbJ",
        "outputId": "a7bc68c1-4c96-4e4d-ca0f-49e6aebaad07"
      },
      "execution_count": 13,
      "outputs": [
        {
          "output_type": "stream",
          "name": "stdout",
          "text": [
            "printme = 13\n",
            "printme = 23.5\n",
            "printme = [13, 22, 45]\n",
            "printme = (8, 13, 1)\n",
            "printme = {200, 'abc', 123, 50}\n",
            "printme = {'f': '123', 'a': 246, 'b': 'qwerty'}\n",
            "a<=b b=8\n",
            "a>b a=8\n",
            " \n",
            "!\n",
            "H\n",
            "e\n",
            "e\n",
            "e\n",
            "h\n",
            "r\n",
            "t\n",
            "y\n",
            "13\n",
            "22\n",
            "45\n",
            "a\n",
            "b\n",
            "f\n"
          ]
        }
      ]
    },
    {
      "cell_type": "code",
      "source": [
        "# Code 2\n",
        "# Positional and named\n",
        "def func1(a, b):\n",
        "    '''Just print out the two arguments a and b\n",
        "    '''\n",
        "    print(f'func1: {a=} {b=}')\n",
        "func1(13, 'xyz')\n",
        "func1(b=13, a='xyz')\n",
        "help(func1)\n",
        "\n",
        "def func2(a, b, *args):\n",
        "    print(f'func2: {a=} {b=} {args=}')\n",
        "func2(13, 'xyz')\n",
        "func2(b=13, a='xyz')\n",
        "func2(13, 'xyz', 12, 22)\n",
        "func2(13, 'xyz', 12, 'qwert', 22)\n",
        "\n",
        "def func3(a, b, *args, **kwargs):\n",
        "    print(f'func3: {a=} {b=} {args=} {kwargs=}')\n",
        "func3(13, 'xyz')\n",
        "func3(b=13, a='xyz')\n",
        "func3(13, 'xyz', 12, 22)\n",
        "func3(13, 'xyz', 12, 'qwert', 22)\n",
        "func3(13, 'xyz', 12, 'qwert', 22, fred=21, ted='asdf')\n"
      ],
      "metadata": {
        "id": "zA3Y49kFcDEV",
        "outputId": "48835bb1-2a04-446c-f222-ffe97f9dcfc4",
        "colab": {
          "base_uri": "https://localhost:8080/"
        }
      },
      "execution_count": 14,
      "outputs": [
        {
          "output_type": "stream",
          "name": "stdout",
          "text": [
            "func1: a=13 b='xyz'\n",
            "func1: a='xyz' b=13\n",
            "Help on function func1 in module __main__:\n",
            "\n",
            "func1(a, b)\n",
            "    Just print out the two arguments a and b\n",
            "\n",
            "func2: a=13 b='xyz' args=()\n",
            "func2: a='xyz' b=13 args=()\n",
            "func2: a=13 b='xyz' args=(12, 22)\n",
            "func2: a=13 b='xyz' args=(12, 'qwert', 22)\n",
            "func3: a=13 b='xyz' args=() kwargs={}\n",
            "func3: a='xyz' b=13 args=() kwargs={}\n",
            "func3: a=13 b='xyz' args=(12, 22) kwargs={}\n",
            "func3: a=13 b='xyz' args=(12, 'qwert', 22) kwargs={}\n",
            "func3: a=13 b='xyz' args=(12, 'qwert', 22) kwargs={'fred': 21, 'ted': 'asdf'}\n"
          ]
        }
      ]
    },
    {
      "cell_type": "code",
      "source": [
        "# Object 1\n",
        "class class1:\n",
        "    def __init__(self, a, b):\n",
        "        self.a = a\n",
        "        self.b = b\n",
        "    def __repr__(self):\n",
        "        return f'class1({self.a}, {self.b})'\n",
        "    def __str__(self):\n",
        "        return f'class1 object contains {self.a=}, {self.b=}'\n",
        "    def double(self):\n",
        "        self.a *= 2\n",
        "        self.b *= 2\n",
        "c1 = class1(4, 7)\n",
        "print(c1)\n",
        "c1.double()\n",
        "print(c1)\n",
        "c1\n"
      ],
      "metadata": {
        "colab": {
          "base_uri": "https://localhost:8080/"
        },
        "id": "BeBl8vzxWIxG",
        "outputId": "115f7603-0ba9-42c8-bce8-6ce6e68107e6"
      },
      "execution_count": 15,
      "outputs": [
        {
          "output_type": "stream",
          "name": "stdout",
          "text": [
            "class1 object contains self.a=4, self.b=7\n",
            "class1 object contains self.a=8, self.b=14\n"
          ]
        },
        {
          "output_type": "execute_result",
          "data": {
            "text/plain": [
              "class1(8, 14)"
            ]
          },
          "metadata": {},
          "execution_count": 15
        }
      ]
    },
    {
      "cell_type": "code",
      "source": [
        "# Object 2\n",
        "def class1_add(c1, c2):\n",
        "    return class1(c1.a + c2.a, c1.b + c2.b)\n",
        "class1.__add__ = class1_add\n",
        "\n",
        "c2 = class1(20, 30)\n",
        "print(c1 + c2)\n",
        "\n"
      ],
      "metadata": {
        "colab": {
          "base_uri": "https://localhost:8080/"
        },
        "id": "Xvlda4PgY4VU",
        "outputId": "948527b5-5eab-497e-de55-2b0a133b1650"
      },
      "execution_count": 16,
      "outputs": [
        {
          "output_type": "stream",
          "name": "stdout",
          "text": [
            "class1 object contains self.a=28, self.b=44\n"
          ]
        }
      ]
    },
    {
      "cell_type": "code",
      "source": [],
      "metadata": {
        "id": "tdbZlAjVaH-K"
      },
      "execution_count": 16,
      "outputs": []
    }
  ]
}