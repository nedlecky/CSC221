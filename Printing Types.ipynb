{
  "nbformat": 4,
  "nbformat_minor": 0,
  "metadata": {
    "colab": {
      "provenance": [],
      "authorship_tag": "ABX9TyP7q5HnJrAorNSZWkUxR4VG",
      "include_colab_link": true
    },
    "kernelspec": {
      "name": "python3",
      "display_name": "Python 3"
    },
    "language_info": {
      "name": "python"
    }
  },
  "cells": [
    {
      "cell_type": "markdown",
      "metadata": {
        "id": "view-in-github",
        "colab_type": "text"
      },
      "source": [
        "<a href=\"https://colab.research.google.com/github/nedlecky/CSC221/blob/main/Printing%20Types.ipynb\" target=\"_parent\"><img src=\"https://colab.research.google.com/assets/colab-badge.svg\" alt=\"Open In Colab\"/></a>"
      ]
    },
    {
      "cell_type": "code",
      "execution_count": null,
      "metadata": {
        "colab": {
          "base_uri": "https://localhost:8080/"
        },
        "id": "5oORbTlVshCe",
        "outputId": "fba09dcf-6d77-4c90-d14d-f5476f578d0f"
      },
      "outputs": [
        {
          "output_type": "execute_result",
          "data": {
            "text/plain": [
              "['In',\n",
              " 'Out',\n",
              " '_',\n",
              " '__',\n",
              " '___',\n",
              " '__builtin__',\n",
              " '__builtins__',\n",
              " '__doc__',\n",
              " '__loader__',\n",
              " '__name__',\n",
              " '__package__',\n",
              " '__spec__',\n",
              " '_dh',\n",
              " '_i',\n",
              " '_i1',\n",
              " '_ih',\n",
              " '_ii',\n",
              " '_iii',\n",
              " '_oh',\n",
              " 'exit',\n",
              " 'get_ipython',\n",
              " 'quit']"
            ]
          },
          "metadata": {},
          "execution_count": 1
        }
      ],
      "source": [
        "dir()\n"
      ]
    },
    {
      "cell_type": "code",
      "source": [
        "\n",
        "def p(x):\n",
        "    command = f'print({x})'\n",
        "    print(f'{x}:', end=' ')\n",
        "    exec(f'print(type({x}), end=\" \")')\n",
        "    exec(f'print({x})')\n",
        "\n",
        "a = 3\n",
        "b = 5.1\n",
        "c = b\n",
        "\n",
        "print(type(a), a)\n",
        "print(type(b), b)\n",
        "print(type(c), c)\n",
        "print(b == c)\n",
        "print(b is c)\n",
        "c += 0.1\n",
        "print(type(b), b)\n",
        "print(type(c), c)\n",
        "print(b == c)\n",
        "print(b is c)\n",
        "p('a')\n",
        "p('b')\n",
        "p('c')\n",
        "l1 = [1, 2, 3]\n",
        "t1 = (2, 3, 4)\n",
        "p('l1')\n",
        "p('t1')\n",
        "s = {3, 4, 5}\n",
        "d = {a: 3, b: 4, c: 5}\n",
        "p('s')\n",
        "p('d')\n",
        "b1 = True\n",
        "p('b1')\n",
        "print(b1 == 1)\n"
      ],
      "metadata": {
        "colab": {
          "base_uri": "https://localhost:8080/"
        },
        "id": "cZ22x8QuspPh",
        "outputId": "06f711d4-93ee-49c0-822d-a965d3124261"
      },
      "execution_count": null,
      "outputs": [
        {
          "output_type": "stream",
          "name": "stdout",
          "text": [
            "<class 'int'> 3\n",
            "<class 'float'> 5.1\n",
            "<class 'float'> 5.1\n",
            "True\n",
            "True\n",
            "<class 'float'> 5.1\n",
            "<class 'float'> 5.199999999999999\n",
            "False\n",
            "False\n",
            "a: <class 'int'> 3\n",
            "b: <class 'float'> 5.1\n",
            "c: <class 'float'> 5.199999999999999\n",
            "l1: <class 'list'> [1, 2, 3]\n",
            "t1: <class 'tuple'> (2, 3, 4)\n",
            "s: <class 'set'> {3, 4, 5}\n",
            "d: <class 'dict'> {3: 3, 5.1: 4, 5.199999999999999: 5}\n",
            "b1: <class 'bool'> True\n",
            "True\n"
          ]
        }
      ]
    },
    {
      "cell_type": "code",
      "source": [],
      "metadata": {
        "id": "AoaKCLXqsz-2"
      },
      "execution_count": null,
      "outputs": []
    }
  ]
}