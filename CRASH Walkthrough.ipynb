{
  "nbformat": 4,
  "nbformat_minor": 0,
  "metadata": {
    "colab": {
      "provenance": [],
      "toc_visible": true,
      "authorship_tag": "ABX9TyNLXaHidpD3VuQYFKXPGDia",
      "include_colab_link": true
    },
    "kernelspec": {
      "name": "python3",
      "display_name": "Python 3"
    },
    "language_info": {
      "name": "python"
    }
  },
  "cells": [
    {
      "cell_type": "markdown",
      "metadata": {
        "id": "view-in-github",
        "colab_type": "text"
      },
      "source": [
        "<a href=\"https://colab.research.google.com/github/nedlecky/CSC221/blob/main/CRASH%20Walkthrough.ipynb\" target=\"_parent\"><img src=\"https://colab.research.google.com/assets/colab-badge.svg\" alt=\"Open In Colab\"/></a>"
      ]
    },
    {
      "cell_type": "markdown",
      "source": [
        "# Chapter 2: Variables and Simple Data Types"
      ],
      "metadata": {
        "id": "qdTSOH1VTtdJ"
      }
    },
    {
      "cell_type": "code",
      "source": [
        "a = 13\n",
        "print(type(a))\n",
        "print(dir(a))\n"
      ],
      "metadata": {
        "colab": {
          "base_uri": "https://localhost:8080/"
        },
        "id": "0u3uwd4YT38L",
        "outputId": "7e02ae8d-65c2-47f0-80a9-9bfcfa523b26"
      },
      "execution_count": null,
      "outputs": [
        {
          "output_type": "stream",
          "name": "stdout",
          "text": [
            "<class 'int'>\n",
            "['__abs__', '__add__', '__and__', '__bool__', '__ceil__', '__class__', '__delattr__', '__dir__', '__divmod__', '__doc__', '__eq__', '__float__', '__floor__', '__floordiv__', '__format__', '__ge__', '__getattribute__', '__getnewargs__', '__gt__', '__hash__', '__index__', '__init__', '__init_subclass__', '__int__', '__invert__', '__le__', '__lshift__', '__lt__', '__mod__', '__mul__', '__ne__', '__neg__', '__new__', '__or__', '__pos__', '__pow__', '__radd__', '__rand__', '__rdivmod__', '__reduce__', '__reduce_ex__', '__repr__', '__rfloordiv__', '__rlshift__', '__rmod__', '__rmul__', '__ror__', '__round__', '__rpow__', '__rrshift__', '__rshift__', '__rsub__', '__rtruediv__', '__rxor__', '__setattr__', '__sizeof__', '__str__', '__sub__', '__subclasshook__', '__truediv__', '__trunc__', '__xor__', 'as_integer_ratio', 'bit_count', 'bit_length', 'conjugate', 'denominator', 'from_bytes', 'imag', 'numerator', 'real', 'to_bytes']\n"
          ]
        }
      ]
    },
    {
      "cell_type": "code",
      "source": [
        "#OPTIONAL\n",
        "#Extending an int\n",
        "class myint(int):\n",
        "  \"\"\"My attempt at an int class that does some funny things.\n",
        "  \"\"\"\n",
        "  def __init__(self, x):\n",
        "    pass\n",
        "    #self.x = x\n",
        "  def __add__(self, x):\n",
        "    \"\"\"A funny processor for +\"\"\"\n",
        "    print(f'__add__({self}, {x}) type(x)={type(x)}')\n",
        "    return x + super().real\n",
        "  def __radd__(self, x):\n",
        "    print(f'__radd__({self}, {x}) type(x)={type(x)}')\n",
        "    return x + super().real\n",
        "\n",
        "print(12+13)\n",
        "print(int(13).__add__(12))\n",
        "\n",
        "m1 = myint(13)\n",
        "m2 = myint(9)\n",
        "print(m1)\n",
        "print(m1 + 8)\n",
        "print(7 + m1)\n",
        "print(m1 + m2)\n",
        "\n",
        "#help(myint)"
      ],
      "metadata": {
        "colab": {
          "base_uri": "https://localhost:8080/"
        },
        "id": "_5NV4ePzWnUA",
        "outputId": "105a97af-7b37-444a-bf5b-4676666df64b"
      },
      "execution_count": null,
      "outputs": [
        {
          "output_type": "stream",
          "name": "stdout",
          "text": [
            "25\n",
            "25\n",
            "13\n",
            "__add__(13, 8) type(x)=<class 'int'>\n",
            "21\n",
            "__radd__(13, 7) type(x)=<class 'int'>\n",
            "20\n",
            "__add__(13, 9) type(x)=<class '__main__.myint'>\n",
            "__add__(9, 13) type(x)=<class 'int'>\n",
            "22\n"
          ]
        }
      ]
    },
    {
      "cell_type": "markdown",
      "source": [
        "# Chapter 9: Classes"
      ],
      "metadata": {
        "id": "5JNAQ9fpIsms"
      }
    },
    {
      "cell_type": "code",
      "source": [
        "!cat > xyz.bat"
      ],
      "metadata": {
        "colab": {
          "base_uri": "https://localhost:8080/"
        },
        "id": "G4fvbOIU5joL",
        "outputId": "c17481cd-9da9-4232-d76a-7db7598e518b"
      },
      "execution_count": null,
      "outputs": [
        {
          "output_type": "stream",
          "name": "stdout",
          "text": [
            "123\n",
            "123\n",
            "22ertt\n",
            "\n",
            "^C\n"
          ]
        }
      ]
    },
    {
      "cell_type": "code",
      "source": [
        "!cat xyz.bat"
      ],
      "metadata": {
        "id": "JA4Olmj-56yq",
        "outputId": "ba1238d8-7f97-4aa2-bac6-b076073a8c8a",
        "colab": {
          "base_uri": "https://localhost:8080/"
        }
      },
      "execution_count": null,
      "outputs": [
        {
          "output_type": "stream",
          "name": "stdout",
          "text": [
            "123\n",
            "123\n",
            "22ertt\n",
            "\n"
          ]
        }
      ]
    },
    {
      "cell_type": "code",
      "execution_count": null,
      "metadata": {
        "id": "Ltr3wO6rGW1i",
        "colab": {
          "base_uri": "https://localhost:8080/"
        },
        "outputId": "cf809673-8aca-4f87-8400-00cefb20a0f7"
      },
      "outputs": [
        {
          "output_type": "stream",
          "name": "stdout",
          "text": [
            "type(C): <class 'type'>\n",
            "type(c1): <class '__main__.C'>\n",
            "type(c2): <class '__main__.C'>\n",
            "dir(C): ['__class__', '__delattr__', '__dict__', '__dir__', '__doc__', '__eq__', '__format__', '__ge__', '__getattribute__', '__gt__', '__hash__', '__init__', '__init_subclass__', '__le__', '__lt__', '__module__', '__ne__', '__new__', '__reduce__', '__reduce_ex__', '__repr__', '__setattr__', '__sizeof__', '__str__', '__subclasshook__', '__weakref__', 'class_attr_0']\n",
            "dir(c1): ['__class__', '__delattr__', '__dict__', '__dir__', '__doc__', '__eq__', '__format__', '__ge__', '__getattribute__', '__gt__', '__hash__', '__init__', '__init_subclass__', '__le__', '__lt__', '__module__', '__ne__', '__new__', '__reduce__', '__reduce_ex__', '__repr__', '__setattr__', '__sizeof__', '__str__', '__subclasshook__', '__weakref__', 'class_attr_0', 'instance_attr_0']\n",
            "dir(c2): ['__class__', '__delattr__', '__dict__', '__dir__', '__doc__', '__eq__', '__format__', '__ge__', '__getattribute__', '__gt__', '__hash__', '__init__', '__init_subclass__', '__le__', '__lt__', '__module__', '__ne__', '__new__', '__reduce__', '__reduce_ex__', '__repr__', '__setattr__', '__sizeof__', '__str__', '__subclasshook__', '__weakref__', 'class_attr_0', 'instance_attr_0']\n",
            "C.__dict__: {'__module__': '__main__', 'class_attr_0': 102, '__init__': <function C.__init__ at 0x7fd60bf64dc0>, '__dict__': <attribute '__dict__' of 'C' objects>, '__weakref__': <attribute '__weakref__' of 'C' objects>, '__doc__': None}\n",
            "c1.__dict__: {'instance_attr_0': 123}\n",
            "c2.__dict__: {'instance_attr_0': 987}\n"
          ]
        }
      ],
      "source": [
        "# How they really work underneath it all is so much simpler than how they behave!\n",
        "\n",
        "class C:\n",
        "  class_attr_0 = 100\n",
        "\n",
        "  def __init__(self, attr=123):\n",
        "    C.class_attr_0 += 1\n",
        "    self.instance_attr_0 = attr\n",
        "\n",
        "c1 = C()\n",
        "c2 = C(987)\n",
        "\n",
        "\n",
        "def print_then_eval(command):\n",
        "  print(command, end=': ')\n",
        "  print(eval(command))\n",
        "\n",
        "\n",
        "print_then_eval('type(C)')\n",
        "print_then_eval('type(c1)')\n",
        "print_then_eval('type(c2)')\n",
        "\n",
        "def showdir():\n",
        "  print_then_eval('dir(C)')\n",
        "  print_then_eval('dir(c1)')\n",
        "  print_then_eval('dir(c2)')\n",
        "\n",
        "def showdict():\n",
        "  print_then_eval('C.__dict__')\n",
        "  print_then_eval('c1.__dict__')\n",
        "  print_then_eval('c2.__dict__')\n",
        "\n",
        "showdir()\n",
        "showdict()"
      ]
    },
    {
      "cell_type": "code",
      "source": [
        "C.class_attr_1 = 123\n",
        "c1.instance_attr_1 = 234\n",
        "c1.instance_attr_2 = 345\n",
        "c2.instance_attr_1 = 'ned'\n",
        "c2.instance_attr_2 = 'jeff'\n",
        "showdir()\n",
        "showdict()\n",
        "\n"
      ],
      "metadata": {
        "colab": {
          "base_uri": "https://localhost:8080/"
        },
        "id": "uXLch41hEZrB",
        "outputId": "67bc68cf-8b4e-4ed6-cdf1-54fc609526a5"
      },
      "execution_count": null,
      "outputs": [
        {
          "output_type": "stream",
          "name": "stdout",
          "text": [
            "dir(C): ['__class__', '__delattr__', '__dict__', '__dir__', '__doc__', '__eq__', '__format__', '__ge__', '__getattribute__', '__gt__', '__hash__', '__init__', '__init_subclass__', '__le__', '__lt__', '__module__', '__ne__', '__new__', '__reduce__', '__reduce_ex__', '__repr__', '__setattr__', '__sizeof__', '__str__', '__subclasshook__', '__weakref__', 'class_attr_0', 'class_attr_1']\n",
            "dir(c1): ['__class__', '__delattr__', '__dict__', '__dir__', '__doc__', '__eq__', '__format__', '__ge__', '__getattribute__', '__gt__', '__hash__', '__init__', '__init_subclass__', '__le__', '__lt__', '__module__', '__ne__', '__new__', '__reduce__', '__reduce_ex__', '__repr__', '__setattr__', '__sizeof__', '__str__', '__subclasshook__', '__weakref__', 'class_attr_0', 'class_attr_1', 'instance_attr_0', 'instance_attr_1', 'instance_attr_2']\n",
            "dir(c2): ['__class__', '__delattr__', '__dict__', '__dir__', '__doc__', '__eq__', '__format__', '__ge__', '__getattribute__', '__gt__', '__hash__', '__init__', '__init_subclass__', '__le__', '__lt__', '__module__', '__ne__', '__new__', '__reduce__', '__reduce_ex__', '__repr__', '__setattr__', '__sizeof__', '__str__', '__subclasshook__', '__weakref__', 'class_attr_0', 'class_attr_1', 'instance_attr_0', 'instance_attr_1', 'instance_attr_2']\n",
            "C.__dict__: {'__module__': '__main__', 'class_attr_0': 102, '__init__': <function C.__init__ at 0x7fd60bf64dc0>, '__dict__': <attribute '__dict__' of 'C' objects>, '__weakref__': <attribute '__weakref__' of 'C' objects>, '__doc__': None, 'class_attr_1': 123}\n",
            "c1.__dict__: {'instance_attr_0': 123, 'instance_attr_1': 234, 'instance_attr_2': 345}\n",
            "c2.__dict__: {'instance_attr_0': 987, 'instance_attr_1': 'ned', 'instance_attr_2': 'jeff'}\n"
          ]
        }
      ]
    },
    {
      "cell_type": "markdown",
      "source": [
        "# Chapter 10: Files and Exceptions"
      ],
      "metadata": {
        "id": "tHk7fRKedZgW"
      }
    },
    {
      "cell_type": "markdown",
      "source": [
        "## JSON p. 201"
      ],
      "metadata": {
        "id": "952u-EMTdpaV"
      }
    },
    {
      "cell_type": "code",
      "source": [
        "import json\n",
        "import decimal\n",
        "\n",
        "def show_json(x):\n",
        "  contents = json.dumps(x)\n",
        "  print(contents)\n",
        "\n",
        "n1 = [1, 2, 3, 4, 5]\n",
        "d1 = {'a': 123, 'd': 246}\n",
        "dec1 = decimal.Decimal(1.23444444)\n",
        "name1 = ['Ned', 'Lecky']\n",
        "\n",
        "show_json(n1)\n",
        "show_json(d1)\n",
        "#show_json(dec1)\n",
        "show_json(name1)\n",
        "\n",
        "combined = {'a': n1, 'b': d1, 'c':name1}\n",
        "show_json(combined)\n",
        "\n",
        "fred = {\"a\": [1, 2, 3, 4, 5], \"b\": {\"a\": 123, \"d\": 246}, \"c\": [\"Ned\", \"Lecky\"]}\n",
        "print(fred)\n",
        "\n"
      ],
      "metadata": {
        "colab": {
          "base_uri": "https://localhost:8080/"
        },
        "id": "gB8sVHpBdwR2",
        "outputId": "e5d019ae-8c63-48e7-a07c-92824c503f55"
      },
      "execution_count": null,
      "outputs": [
        {
          "output_type": "stream",
          "name": "stdout",
          "text": [
            "[1, 2, 3, 4, 5]\n",
            "{\"a\": 123, \"d\": 246}\n",
            "[\"Ned\", \"Lecky\"]\n",
            "{\"a\": [1, 2, 3, 4, 5], \"b\": {\"a\": 123, \"d\": 246}, \"c\": [\"Ned\", \"Lecky\"]}\n",
            "{'a': [1, 2, 3, 4, 5], 'b': {'a': 123, 'd': 246}, 'c': ['Ned', 'Lecky']}\n"
          ]
        }
      ]
    },
    {
      "cell_type": "code",
      "source": [],
      "metadata": {
        "id": "oJxIwpE0eAmM"
      },
      "execution_count": null,
      "outputs": []
    },
    {
      "cell_type": "markdown",
      "source": [
        "# Chapter 11: Testing Your Code"
      ],
      "metadata": {
        "id": "Z5tKRsuquQ-B"
      }
    },
    {
      "cell_type": "markdown",
      "source": [
        "## Pytest"
      ],
      "metadata": {
        "id": "ri0Oru7SuWkG"
      }
    },
    {
      "cell_type": "code",
      "source": [
        "%%file test_file_load.py\n",
        "import pytest\n",
        "import pandas as pd\n",
        "import logging\n",
        "logging.basicConfig(level=logging.INFO)\n",
        "\n",
        "def load_csv(filepath):\n",
        "  try:\n",
        "    df= pd.read_csv(filepath)\n",
        "    if len(df)>0:\n",
        "    # Do something if\n",
        "      logging.info(\" Succesffully loaded file\")\n",
        "      return 1\n",
        "\n",
        "  except FileNotFoundError:\n",
        "      # File doesn't exist\n",
        "      logging.info(\" File not found/ Incorrect file path\")\n",
        "      return 2\n",
        "\n",
        "  else:\n",
        "    # Return error loading file\n",
        "    logging.info(\" File load failed\")\n",
        "    return 3\n",
        "\n",
        "class TestFileloader:\n",
        "  def testthis(self):\n",
        "    status  = load_csv(\"abc.csv\")\n",
        "    assert status ==2"
      ],
      "metadata": {
        "colab": {
          "base_uri": "https://localhost:8080/"
        },
        "id": "wGlt1yF8upeX",
        "outputId": "62223a1a-b58e-45b6-fbd8-292f61a47d59"
      },
      "execution_count": null,
      "outputs": [
        {
          "output_type": "stream",
          "name": "stdout",
          "text": [
            "Overwriting test_file_load.py\n"
          ]
        }
      ]
    },
    {
      "cell_type": "code",
      "source": [
        "!python -m pytest test_file_load.py"
      ],
      "metadata": {
        "colab": {
          "base_uri": "https://localhost:8080/"
        },
        "id": "63ZBWO_avDXo",
        "outputId": "b8684736-13f1-4507-aed6-a18a186d1929"
      },
      "execution_count": null,
      "outputs": [
        {
          "output_type": "stream",
          "name": "stdout",
          "text": [
            "\u001b[1m============================= test session starts ==============================\u001b[0m\n",
            "platform linux -- Python 3.10.12, pytest-7.2.2, pluggy-1.2.0\n",
            "rootdir: /content\n",
            "plugins: anyio-3.7.0\n",
            "collected 1 item                                                               \u001b[0m\n",
            "\n",
            "test_file_load.py \u001b[32m.\u001b[0m\u001b[32m                                                      [100%]\u001b[0m\n",
            "\n",
            "\u001b[32m============================== \u001b[32m\u001b[1m1 passed\u001b[0m\u001b[32m in 0.46s\u001b[0m\u001b[32m ===============================\u001b[0m\n"
          ]
        }
      ]
    },
    {
      "cell_type": "markdown",
      "source": [
        "# Additions"
      ],
      "metadata": {
        "id": "V5ABn3Z9wVmE"
      }
    },
    {
      "cell_type": "markdown",
      "source": [
        "Making and inporting files"
      ],
      "metadata": {
        "id": "6aALLT5Mezrw"
      }
    },
    {
      "cell_type": "code",
      "source": [
        "%%file myabc.py\n",
        "print('Hello, worlds!')\n",
        "a = 132\n",
        "\n",
        "def f1(x):\n",
        "  print(f'f1({x})')"
      ],
      "metadata": {
        "colab": {
          "base_uri": "https://localhost:8080/"
        },
        "id": "pefC66azezNk",
        "outputId": "595f7f29-9000-4737-98a5-42273cc564be"
      },
      "execution_count": null,
      "outputs": [
        {
          "output_type": "stream",
          "name": "stdout",
          "text": [
            "Writing myabc.py\n"
          ]
        }
      ]
    },
    {
      "cell_type": "code",
      "source": [
        "from importlib import reload\n",
        "\n",
        "try:\n",
        "  print('#1 try to reload myabc...')\n",
        "  reload(myabc)\n",
        "  print('#1 succeeded!')\n",
        "except:\n",
        "  print('#2 try initial import myabc')\n",
        "  import myabc\n",
        "  print('#2 succeeded!')\n",
        "\n",
        "print(dir(myabc))\n",
        "\n",
        "print(myabc.a)\n",
        "myabc.f1(123)"
      ],
      "metadata": {
        "colab": {
          "base_uri": "https://localhost:8080/"
        },
        "id": "Q1STmucUe4v2",
        "outputId": "ad4611fc-49b9-4471-9730-a88f8ab49f39"
      },
      "execution_count": null,
      "outputs": [
        {
          "output_type": "stream",
          "name": "stdout",
          "text": [
            "#1 try to reload myabc...\n",
            "Hello, worlds!\n",
            "#1 succeeded!\n",
            "['__builtins__', '__cached__', '__doc__', '__file__', '__loader__', '__name__', '__package__', '__spec__', 'a', 'f1']\n",
            "132\n",
            "f1(123)\n"
          ]
        }
      ]
    },
    {
      "cell_type": "markdown",
      "source": [
        "## Colab Intro / Tutorial\n",
        "https://www.jcchouinard.com/google-colab-with-python/<br>\n",
        "https://towardsdatascience.com/10-tips-for-a-better-google-colab-experience-33f8fe721b82"
      ],
      "metadata": {
        "id": "o37oemEn4vZ3"
      }
    },
    {
      "cell_type": "code",
      "source": [
        "!pwd\n",
        "!ls\n",
        "!cat app.log"
      ],
      "metadata": {
        "colab": {
          "base_uri": "https://localhost:8080/"
        },
        "id": "XEbiX29J44kh",
        "outputId": "0987153d-b42e-455b-add7-85fe9b84c6eb"
      },
      "execution_count": null,
      "outputs": [
        {
          "output_type": "stream",
          "name": "stdout",
          "text": [
            "/content\n",
            "app.log  __pycache__  sample_data  test_file_load.py\n",
            "root - DEBUG - This WILL get logged\n",
            "root - DEBUG - This WILL get logged\n",
            "my_logger - DEBUG - This is my 😂 debug message \n",
            "my_logger - INFO - This is my 💜 info message \n",
            "my_logger - WARNING - This is my 🤔 warning message \n",
            "my_logger - ERROR - This is my error 😱message \n",
            "my_logger - CRITICAL - This is my 😭 critical message \n",
            "root - DEBUG - This WILL get logged\n",
            "main_logger - DEBUG - This is my 😂 debug message \n",
            "main_logger - INFO - This is my 💜 info message \n",
            "main_logger - WARNING - This is my 🤔 warning message \n",
            "main_logger - ERROR - This is my error 😱message \n",
            "main_logger - CRITICAL - This is my 😭 critical message \n",
            "2023-07-09 17:58:53,957 - DEBUG - This WILL get logged\n",
            "2023-07-09 17:58:53,957 - DEBUG - This is my 😂 debug message \n",
            "2023-07-09 17:58:53,957 - INFO - This is my 💜 info message \n",
            "2023-07-09 17:58:53,957 - WARNING - This is my 🤔 warning message \n",
            "2023-07-09 17:58:53,957 - ERROR - This is my error 😱message \n",
            "2023-07-09 17:58:53,957 - CRITICAL - This is my 😭 critical message \n",
            "2023-07-09 18:19:05,010 - DEBUG - This WILL get logged\n",
            "2023-07-09 18:19:05,010 - DEBUG - This is my 😂 debug message \n",
            "2023-07-09 18:19:05,010 - INFO - This is my 💜 info message \n",
            "2023-07-09 18:19:05,011 - WARNING - This is my 🤔 warning message \n",
            "2023-07-09 18:19:05,011 - ERROR - This is my error 😱message \n",
            "2023-07-09 18:19:05,011 - CRITICAL - This is my 😭 critical message \n"
          ]
        }
      ]
    },
    {
      "cell_type": "markdown",
      "source": [
        "## Python with Colab Overview\n",
        "https://www.jcchouinard.com/google-colab-with-python/"
      ],
      "metadata": {
        "id": "0e2g53Xk03NA"
      }
    },
    {
      "cell_type": "markdown",
      "source": [],
      "metadata": {
        "id": "rqWxldTV41Fx"
      }
    },
    {
      "cell_type": "code",
      "source": [
        "!python --version"
      ],
      "metadata": {
        "colab": {
          "base_uri": "https://localhost:8080/"
        },
        "id": "R5qY3KtX03j2",
        "outputId": "b8fcdd2a-4238-421e-bbbd-8b581c559f96"
      },
      "execution_count": null,
      "outputs": [
        {
          "output_type": "stream",
          "name": "stdout",
          "text": [
            "Python 3.10.12\n"
          ]
        }
      ]
    },
    {
      "cell_type": "markdown",
      "source": [
        "## Logging\n",
        "Great reference:\n",
        "https://colab.research.google.com/github/aviadr1/learn-advanced-python/blob/master/content/15_logging/logging_in_python.ipynb"
      ],
      "metadata": {
        "id": "su92aotVweFZ"
      }
    },
    {
      "cell_type": "code",
      "source": [
        "%%python\n",
        "import logging\n",
        "logger = logging.getLogger('my_logger')\n",
        "\n",
        "logging.basicConfig(\n",
        "    level=logging.DEBUG # allow DEBUG level messages to pass through the logger\n",
        ")\n",
        "\n",
        "logger.debug('This is my 😂 debug message ')\n",
        "logger.info('This is my 💜 info message ')\n",
        "logger.warning('This is my 🤔 warning message ')\n",
        "logger.error('This is my error 😱 message ')\n",
        "logger.critical('This is my 😭 critical message ')"
      ],
      "metadata": {
        "colab": {
          "base_uri": "https://localhost:8080/"
        },
        "id": "cXXk3-GWxt0x",
        "outputId": "b104aaf5-eb52-41e2-dc57-f3afb9fa4d23"
      },
      "execution_count": null,
      "outputs": [
        {
          "output_type": "stream",
          "name": "stderr",
          "text": [
            "DEBUG:my_logger:This is my 😂 debug message \n",
            "INFO:my_logger:This is my 💜 info message \n",
            "WARNING:my_logger:This is my 🤔 warning message \n",
            "ERROR:my_logger:This is my error 😱 message \n",
            "CRITICAL:my_logger:This is my 😭 critical message \n"
          ]
        }
      ]
    },
    {
      "cell_type": "code",
      "source": [
        "%%python\n",
        "import logging\n",
        "logger = logging.getLogger('main_logger')\n",
        "\n",
        "logging.basicConfig(\n",
        "    filename='app.log',\n",
        "    filemode='a',\n",
        "    format='%(asctime)s - %(levelname)s - %(message)s',\n",
        "    level=logging.DEBUG\n",
        "    )\n",
        "\n",
        "logging.debug('This WILL get logged')\n",
        "logger.debug('This is my 😂 debug message ')\n",
        "logger.info('This is my 💜 info message ')\n",
        "logger.warning('This is my 🤔 warning message ')\n",
        "logger.error('This is my error 😱message ')\n",
        "logger.critical('This is my 😭 critical message ')"
      ],
      "metadata": {
        "id": "1BVTeZucySmh"
      },
      "execution_count": null,
      "outputs": []
    },
    {
      "cell_type": "code",
      "source": [],
      "metadata": {
        "id": "TZDfFVFIze7c"
      },
      "execution_count": null,
      "outputs": []
    },
    {
      "cell_type": "markdown",
      "source": [
        "## Markdown\n",
        "Here are some examples for how to use Markdown."
      ],
      "metadata": {
        "id": "tkURLJnRwjXh"
      }
    },
    {
      "cell_type": "markdown",
      "source": [
        "Here's some text.\n",
        "This is **bold**.\n",
        "This is *italic*.\n",
        "This is ~strikethrough~.\n",
        "\n",
        "* This is a bullet\n",
        "* Here is another\n",
        " * Indented bullet\n",
        "* Back to bullet 3\n",
        "\n",
        "Here's some more text.\n",
        "Here's a [link](https://www.lecky.com) to lecky.com!\n",
        "Here is an equation:<br>\n",
        "$e^x = \\sum_{i = 0}^\\infty \\frac{1}{i!}x^i$\n",
        "\n",
        "Here are some equations:<br>\n",
        "   - $3x_1 + 6x_2 + x_3 =< 28$\n",
        "   - $7x_1 + 3x_2 + 2x_3 =< 37$\n",
        "   - $4x_1 + 5x_2 + 2x_3 =< 19$\n",
        "   - $x_1,x_2,x_3 >=0 $\n",
        "\n",
        "The trial vector is calculated as follows:\n",
        "$u_i(t) = x_i(t) + \\beta(\\hat{x}(t) − x_i(t)) + \\beta \\sum_{k = 1}^{n_v}(x_{i1,k}(t) − x_{i2,k}(t))$\n",
        "$f(x_1, x_2) = 20 + e - 20exp(-0.2 \\sqrt {\\frac {1}{n} (x_1^2 + x_2^2)}) - exp (\\frac {1}{n}(cos(2\\pi x_1) + cos(2\\pi x_2))$\n",
        "\n",
        "$x ∈ [-5, 5]$\n",
        ">$A_{m,n} =\n",
        "   \\begin{pmatrix}\n",
        "   a_{1,1} > a_{1,2} > \\cdots > a_{1,n} \\\\\n",
        "   a_{2,1} > a_{2,2} > \\cdots > a_{2,n} \\\\\n",
        "   \\vdots > \\vdots > \\ddots > \\vdots \\\\\n",
        "   a_{m,1} > a_{m,2} > \\cdots > a_{m,n}\n",
        "   \\end{pmatrix}$"
      ],
      "metadata": {
        "id": "kIFXQeI4wmRe"
      }
    },
    {
      "cell_type": "code",
      "source": [],
      "metadata": {
        "id": "uM_yQWScvr5f"
      },
      "execution_count": null,
      "outputs": []
    }
  ]
}